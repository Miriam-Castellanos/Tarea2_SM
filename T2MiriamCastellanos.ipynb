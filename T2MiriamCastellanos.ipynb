{
 "cells": [
  {
   "cell_type": "markdown",
   "metadata": {},
   "source": [
    "# The importance of Python \n",
    "## Summary 2"
   ]
  },
  {
   "cell_type": "markdown",
   "metadata": {},
   "source": [
    "Being the fastest growing programming language, Python is used in a wide range of developer roles and data science positions; and it’s popular because of its sets of robust libraries, giving the ability to “create” a customizable programming language to each user.\n",
    "\n",
    "“The rise of Python is linked to businesses  understanding that they’re generating all this data”, data that needs to be precessed so the businesses’ owners can make better decisions according to the data analysis.\n",
    "\n",
    "The [article](https://www.techrepublic.com/article/why-python-is-so-popular-with-developers-3-reasons-the-language-has-exploded/) exposes 3 main reasons why Python is the fastest growing programming language:\n",
    "\n",
    "+ Ease of learning:\n",
    "\t+ High reliability \n",
    "\t+ Simple syntax (because it’s similar to reading English)\n",
    "+ The explosion of AI, machine learning and data science in the enterprise:\n",
    "\t+ “There’s some very good framework. You’ve got good tools for data scientists”\n",
    "+ A large developer community:\n",
    "\t+ “There’s an abundance of open source Python libraries available that can most likely achieve what you need to help solve your problem”\n",
    "\n",
    "The language’s flexibility does bring some disadvantages, it may not be as fast as Java, but it takes less time to develop than Java; although, it seems most of the people is willing to take that trade-off.\n"
   ]
  },
  {
   "cell_type": "markdown",
   "metadata": {},
   "source": [
    "The second [article](https://www.zdnet.com/article/programming-language-of-the-year-python-is-standout-in-latest-rankings/) gives out stats of Python’s growth; some of the most relevant are:\n",
    "\n",
    "+ The language entered the top three in Tiobe’s popularity index in September, thanks to often being the first language taught at universities and it’s the go-to language for statistical analysis, machine learning, scripting, web programming and scientific computing.\n",
    "\n",
    "+ Python gained 3.62 percentage points year over years in Tiobe’s January 2019 index, beating rises by Visual basics . NET and Java.\n",
    "\n",
    "+ It is the most popular language among hackers because of its easy-to-grasp syntax.\n",
    "\n",
    "+ The top 3 languages in descending order for January 2019 were Java, C and Python\n"
   ]
  }
 ],
 "metadata": {
  "kernelspec": {
   "display_name": "Python 3",
   "language": "python",
   "name": "python3"
  },
  "language_info": {
   "codemirror_mode": {
    "name": "ipython",
    "version": 3
   },
   "file_extension": ".py",
   "mimetype": "text/x-python",
   "name": "python",
   "nbconvert_exporter": "python",
   "pygments_lexer": "ipython3",
   "version": "3.7.3"
  }
 },
 "nbformat": 4,
 "nbformat_minor": 2
}
